{
 "cells": [
  {
   "cell_type": "code",
   "execution_count": 1,
   "metadata": {},
   "outputs": [
    {
     "name": "stdout",
     "output_type": "stream",
     "text": [
      "ML\n"
     ]
    }
   ],
   "source": [
    "print('ML') "
   ]
  },
  {
   "cell_type": "code",
   "execution_count": 2,
   "metadata": {},
   "outputs": [
    {
     "name": "stdout",
     "output_type": "stream",
     "text": [
      "ML\n"
     ]
    }
   ],
   "source": [
    "print(\"ML\")"
   ]
  },
  {
   "cell_type": "code",
   "execution_count": 3,
   "metadata": {},
   "outputs": [
    {
     "data": {
      "text/plain": [
       "(3, 0, 1.6666666666666667, 1, 12, 8, 9)"
      ]
     },
     "execution_count": 3,
     "metadata": {},
     "output_type": "execute_result"
    }
   ],
   "source": [
    "1+2,2-2, 5/3,5//3,3*4,2**3 ,3^10 #(2**3= 2 to the power 3)"
   ]
  },
  {
   "cell_type": "code",
   "execution_count": 4,
   "metadata": {},
   "outputs": [
    {
     "name": "stdout",
     "output_type": "stream",
     "text": [
      "ML1+4\n"
     ]
    }
   ],
   "source": [
    "print('ML'+'1+4')"
   ]
  },
  {
   "cell_type": "code",
   "execution_count": 5,
   "metadata": {},
   "outputs": [
    {
     "name": "stdout",
     "output_type": "stream",
     "text": [
      "learn\n",
      "ML\n"
     ]
    }
   ],
   "source": [
    "learn = 'ML'\n",
    "print ('learn')\n",
    "print (learn)"
   ]
  },
  {
   "cell_type": "code",
   "execution_count": 6,
   "metadata": {},
   "outputs": [
    {
     "ename": "TypeError",
     "evalue": "unsupported operand type(s) for +: 'int' and 'str'",
     "output_type": "error",
     "traceback": [
      "\u001b[1;31m---------------------------------------------------------------------------\u001b[0m",
      "\u001b[1;31mTypeError\u001b[0m                                 Traceback (most recent call last)",
      "\u001b[1;32m<ipython-input-6-f3d931226db0>\u001b[0m in \u001b[0;36m<module>\u001b[1;34m\u001b[0m\n\u001b[0;32m      1\u001b[0m \u001b[0mvar_1\u001b[0m\u001b[1;33m=\u001b[0m\u001b[1;36m20\u001b[0m\u001b[1;33m\u001b[0m\u001b[1;33m\u001b[0m\u001b[0m\n\u001b[0;32m      2\u001b[0m \u001b[0mvar_2\u001b[0m\u001b[1;33m=\u001b[0m \u001b[1;34m'ML'\u001b[0m\u001b[1;33m\u001b[0m\u001b[1;33m\u001b[0m\u001b[0m\n\u001b[1;32m----> 3\u001b[1;33m \u001b[0mprint\u001b[0m \u001b[1;33m(\u001b[0m\u001b[0mvar_1\u001b[0m \u001b[1;33m+\u001b[0m \u001b[0mvar_2\u001b[0m\u001b[1;33m)\u001b[0m\u001b[1;33m\u001b[0m\u001b[1;33m\u001b[0m\u001b[0m\n\u001b[0m",
      "\u001b[1;31mTypeError\u001b[0m: unsupported operand type(s) for +: 'int' and 'str'"
     ]
    }
   ],
   "source": [
    "var_1=20\n",
    "var_2= 'ML'\n",
    "print (var_1 + var_2)"
   ]
  },
  {
   "cell_type": "code",
   "execution_count": null,
   "metadata": {},
   "outputs": [],
   "source": [
    "var_1='20'\n",
    "var_2= 'ML'\n",
    "print (var_1 + var_2)"
   ]
  },
  {
   "cell_type": "code",
   "execution_count": null,
   "metadata": {},
   "outputs": [],
   "source": [
    "var_1= 20\n",
    "var_2= 'ML'\n",
    "print ('var_1' + var_2)"
   ]
  },
  {
   "cell_type": "code",
   "execution_count": null,
   "metadata": {},
   "outputs": [],
   "source": [
    "var_1=20\n",
    "var_2= 'ML'\n",
    "print (str(var_1) + var_2)"
   ]
  },
  {
   "cell_type": "code",
   "execution_count": null,
   "metadata": {},
   "outputs": [],
   "source": [
    "var1=input (\"inter the value 1:\")\n",
    "var2=input (\"inter the value 2:\")\n",
    "\n",
    "print (var1 + var2)"
   ]
  },
  {
   "cell_type": "code",
   "execution_count": null,
   "metadata": {},
   "outputs": [],
   "source": [
    "var1=input (\"inter the value 1:\")\n",
    "var2=input (\"inter the value 2:\")\n",
    "\n",
    "print (int(var1) +int(var2))"
   ]
  },
  {
   "cell_type": "code",
   "execution_count": null,
   "metadata": {},
   "outputs": [],
   "source": [
    "var1=int(input (\"inter the value 1:\"))\n",
    "var2=int(input (\"inter the value 2:\"))\n",
    "\n",
    "print (var1 + var2)\n",
    "var1%var2"
   ]
  },
  {
   "cell_type": "code",
   "execution_count": null,
   "metadata": {},
   "outputs": [],
   "source": [
    "name1 = \"hello\"\n",
    "name2 = input (\"give name:\")\n",
    "print(name1+ name2)"
   ]
  },
  {
   "cell_type": "code",
   "execution_count": null,
   "metadata": {},
   "outputs": [],
   "source": [
    "var1=input(\"give the input\")\n",
    "type(var1)\n",
    "#type(int(var1))"
   ]
  },
  {
   "cell_type": "code",
   "execution_count": null,
   "metadata": {},
   "outputs": [],
   "source": [
    "name1 = \"hello\"\n",
    "name2 = input (\"give name:\")\n",
    "print(name1*2,name2*3)"
   ]
  },
  {
   "cell_type": "code",
   "execution_count": null,
   "metadata": {},
   "outputs": [],
   "source": [
    "statement=\"\\n my\\n is\\n ML\"\n",
    "\n",
    "print(\"statement\",statement)"
   ]
  },
  {
   "cell_type": "code",
   "execution_count": null,
   "metadata": {},
   "outputs": [],
   "source": [
    "string=\"1 2 3 4 5 6 7 \"\n",
    "string1=\"1\\t2\\t3\\t4\\t5\\t\"\n",
    "print(string)\n",
    "print(string1)"
   ]
  },
  {
   "cell_type": "code",
   "execution_count": null,
   "metadata": {},
   "outputs": [],
   "source": [
    "print('what's your name?')"
   ]
  },
  {
   "cell_type": "code",
   "execution_count": null,
   "metadata": {},
   "outputs": [],
   "source": [
    "print('what\\'s your name?')"
   ]
  },
  {
   "cell_type": "code",
   "execution_count": null,
   "metadata": {},
   "outputs": [],
   "source": [
    "print(\"what's your name?\")"
   ]
  },
  {
   "cell_type": "code",
   "execution_count": null,
   "metadata": {},
   "outputs": [],
   "source": [
    "# .format fuction\n",
    "\n",
    "var11= 'hello'\n",
    "var12='world'\n",
    "message1=(var11 + var12+' hru?')\n",
    "print (message1)"
   ]
  },
  {
   "cell_type": "code",
   "execution_count": null,
   "metadata": {},
   "outputs": [],
   "source": [
    "message2= '{} {} hru?'.format(var11,var12)\n",
    "print (message2)"
   ]
  },
  {
   "cell_type": "code",
   "execution_count": 7,
   "metadata": {},
   "outputs": [
    {
     "ename": "NameError",
     "evalue": "name 'var11' is not defined",
     "output_type": "error",
     "traceback": [
      "\u001b[1;31m---------------------------------------------------------------------------\u001b[0m",
      "\u001b[1;31mNameError\u001b[0m                                 Traceback (most recent call last)",
      "\u001b[1;32m<ipython-input-7-1e57eb7476a7>\u001b[0m in \u001b[0;36m<module>\u001b[1;34m\u001b[0m\n\u001b[1;32m----> 1\u001b[1;33m \u001b[0mmessage3\u001b[0m\u001b[1;33m=\u001b[0m \u001b[1;34mf'{var11} {var12} hru?'\u001b[0m\u001b[1;33m\u001b[0m\u001b[1;33m\u001b[0m\u001b[0m\n\u001b[0m\u001b[0;32m      2\u001b[0m \u001b[0mprint\u001b[0m\u001b[1;33m(\u001b[0m\u001b[0mmessage3\u001b[0m\u001b[1;33m)\u001b[0m\u001b[1;33m\u001b[0m\u001b[1;33m\u001b[0m\u001b[0m\n",
      "\u001b[1;31mNameError\u001b[0m: name 'var11' is not defined"
     ]
    }
   ],
   "source": [
    "message3= f'{var11} {var12} hru?'\n",
    "print(message3)"
   ]
  },
  {
   "cell_type": "code",
   "execution_count": null,
   "metadata": {},
   "outputs": [],
   "source": [
    "print(type(message3))\n",
    "print(len(message3))\n",
    "print(message3.upper())\n",
    "print(message3.lower())\n",
    "print(message3.count('o'))\n",
    "print(message3.find('hru?'))\n",
    "print(message3[3])\n",
    "print(message3[4])\n",
    "print(message3[0:5])"
   ]
  },
  {
   "cell_type": "code",
   "execution_count": null,
   "metadata": {},
   "outputs": [],
   "source": [
    "#control flow and indentation\n",
    "\n",
    "for i in range(0,12):\n",
    "    print('value of I '+str(i))"
   ]
  },
  {
   "cell_type": "code",
   "execution_count": null,
   "metadata": {},
   "outputs": [],
   "source": [
    "for i in range(0,12):\n",
    "    print('value of I '+str(i))\n",
    "    print('loop')\n",
    "print('well done')    "
   ]
  },
  {
   "cell_type": "code",
   "execution_count": null,
   "metadata": {},
   "outputs": [],
   "source": [
    "for var1 in range(0,15):\n",
    "    print(\"no.{} ,square is {}, cube is {}\".format(var1,var1**2,var1**3))"
   ]
  },
  {
   "cell_type": "code",
   "execution_count": null,
   "metadata": {},
   "outputs": [],
   "source": [
    "#function\n",
    "\n",
    "def function_name ():\n",
    "    print(\"hello\")\n",
    "    \n",
    "function_name ()  "
   ]
  },
  {
   "cell_type": "code",
   "execution_count": null,
   "metadata": {},
   "outputs": [],
   "source": [
    "# 1-no argumment no return type funtion\n",
    "def addition ():\n",
    "    var1= input (\"enter the num1: \")\n",
    "    var2= input (\"enter the num2: \")\n",
    "    var3=int(var1)+int(var2)\n",
    "    print(\"sum=\" , var3)\n",
    "    \n",
    "addition ()"
   ]
  },
  {
   "cell_type": "code",
   "execution_count": null,
   "metadata": {},
   "outputs": [],
   "source": [
    "# with argument no return type funtion\n",
    "\n",
    "def sub (var1,var2):\n",
    "    var3=var1-var2\n",
    "    print(\"sub = \", var3)\n",
    "    \n",
    "sub (23,3)    "
   ]
  },
  {
   "cell_type": "code",
   "execution_count": null,
   "metadata": {},
   "outputs": [],
   "source": [
    "# no argument with return type funtion\n",
    "\n",
    "def multi():\n",
    "    var1= input (\"enter the num1: \")\n",
    "    var2= input (\"enter the num2: \")\n",
    "    var3=int(var1)*int(var2)\n",
    "    return var3\n",
    "\n",
    "var4=multi()\n",
    "print(\"multi=\",var4)\n",
    "\n"
   ]
  },
  {
   "cell_type": "code",
   "execution_count": null,
   "metadata": {},
   "outputs": [],
   "source": [
    "#with argumennt with return  type funtion\n",
    "\n",
    "def div(var1,var2):\n",
    "    var3=var2/var1\n",
    "    return var3\n",
    "\n",
    "var4=div(4,100)\n",
    "print(\"div=\",var4)    \n"
   ]
  },
  {
   "cell_type": "code",
   "execution_count": null,
   "metadata": {},
   "outputs": [],
   "source": [
    "#if else\n",
    "\n",
    "name=input(\"enter the name: \")\n",
    "age=int(input('enter the age,{}'.format(name)))\n",
    "\n",
    "print(age)\n",
    "\n",
    "if age >= 18:\n",
    "    print(\"please vote\")\n",
    "    \n",
    "else:\n",
    "    print('try after {} year'.format(18-age))\n"
   ]
  },
  {
   "cell_type": "code",
   "execution_count": null,
   "metadata": {},
   "outputs": [],
   "source": [
    "print('guess a no ')\n",
    "guess=int(input('no:'))\n",
    "\n",
    "if guess<5:\n",
    "    print('guess higher')\n",
    "    guess=int(input('no:'))\n",
    "    \n",
    "    if guess==5:\n",
    "        print('correct')\n",
    "    else:\n",
    "        print('try again')\n",
    "        guess=int(input('no:'))\n",
    "        \n",
    "elif guess>5:\n",
    "    print(\"guess lower\")\n",
    "    guess=int(input(\"no.\"))\n",
    "        \n",
    "    if guess==5:\n",
    "        print('correct')\n",
    "    else:\n",
    "        print('try again')\n",
    "        guess=int(input('no:'))\n",
    "        \n",
    "else:\n",
    "    print('first attempt')\n",
    "\n"
   ]
  },
  {
   "cell_type": "code",
   "execution_count": null,
   "metadata": {},
   "outputs": [],
   "source": [
    "age='10'\n",
    "while True:\n",
    "    print('enter age')\n",
    "    age1= input()\n",
    "    if age1==age:\n",
    "        break\n",
    "        \n",
    "print ('correct')\n",
    "    "
   ]
  },
  {
   "cell_type": "code",
   "execution_count": null,
   "metadata": {},
   "outputs": [],
   "source": [
    "# FOR LOOP\n",
    "for i in range(10):\n",
    "    print('no.{}'.format(i))"
   ]
  },
  {
   "cell_type": "code",
   "execution_count": null,
   "metadata": {},
   "outputs": [],
   "source": [
    "for i in range(1,10):\n",
    "    print('no.{}'.format(i))"
   ]
  },
  {
   "cell_type": "code",
   "execution_count": null,
   "metadata": {},
   "outputs": [],
   "source": [
    "for i in range(5,30,5):\n",
    "    print('no.{}'.format(i))"
   ]
  },
  {
   "cell_type": "code",
   "execution_count": 8,
   "metadata": {},
   "outputs": [
    {
     "name": "stdout",
     "output_type": "stream",
     "text": [
      "no.20\n",
      "no.15\n",
      "no.10\n",
      "no.5\n"
     ]
    }
   ],
   "source": [
    "for i in range(20,1,-5):\n",
    "    print('no.{}'.format(i))"
   ]
  },
  {
   "cell_type": "code",
   "execution_count": 9,
   "metadata": {},
   "outputs": [
    {
     "name": "stdout",
     "output_type": "stream",
     "text": [
      "2\n",
      ",\n",
      "3\n",
      "4\n",
      ",\n",
      "1\n",
      "2\n",
      "3\n",
      ",\n",
      "1\n",
      ",\n",
      "2\n",
      "3\n",
      "4\n",
      "6\n",
      ",\n",
      "1\n",
      ",\n",
      "7\n",
      "6\n",
      ",\n",
      "9\n",
      "8\n",
      "6\n"
     ]
    }
   ],
   "source": [
    "num='2,34,123,1,2346,1,76,986'\n",
    "for i in range(0,len(num)):\n",
    "    print(num[i])"
   ]
  },
  {
   "cell_type": "code",
   "execution_count": 10,
   "metadata": {},
   "outputs": [
    {
     "name": "stdout",
     "output_type": "stream",
     "text": [
      "1\n",
      "2\n",
      "3\n",
      "2\n",
      "3\n",
      "4\n",
      "4\n",
      "5\n",
      "6\n",
      "3\n"
     ]
    }
   ],
   "source": [
    "num ='1,23,234,4563'\n",
    "for i in range(0,len(num)):\n",
    "    if num[i] in '0123456789':\n",
    "        print (num[i])\n",
    "    \n",
    "    "
   ]
  },
  {
   "cell_type": "code",
   "execution_count": 11,
   "metadata": {},
   "outputs": [
    {
     "name": "stdout",
     "output_type": "stream",
     "text": [
      "1232344563"
     ]
    }
   ],
   "source": [
    "num ='1,23,234,4563'\n",
    "for i in range(0,len(num)):\n",
    "    if num[i] in '0123456789':\n",
    "        print (num[i],end='')\n",
    "    "
   ]
  },
  {
   "cell_type": "code",
   "execution_count": 12,
   "metadata": {},
   "outputs": [
    {
     "name": "stdout",
     "output_type": "stream",
     "text": [
      "21234523\n",
      "<class 'int'>\n"
     ]
    }
   ],
   "source": [
    "num='2,12,345,23'\n",
    "cleanednumber=''\n",
    "for i in range(0,len(num)):\n",
    "    if num[i] in '0123456789':\n",
    "        cleanednumber = cleanednumber + num[i]\n",
    "        \n",
    "        \n",
    "newnumber= int(cleanednumber)\n",
    "print(newnumber)\n",
    "print(type(newnumber))\n",
    "        "
   ]
  },
  {
   "cell_type": "code",
   "execution_count": 13,
   "metadata": {},
   "outputs": [
    {
     "name": "stdout",
     "output_type": "stream",
     "text": [
      "0\n",
      "2\n",
      "4\n",
      "6\n",
      "8\n"
     ]
    }
   ],
   "source": [
    "#while loop\n",
    "\n",
    "var1=0\n",
    "\n",
    "while var1<10:\n",
    "    print(var1)\n",
    "    var1 += 2"
   ]
  },
  {
   "cell_type": "code",
   "execution_count": 14,
   "metadata": {},
   "outputs": [
    {
     "name": "stdout",
     "output_type": "stream",
     "text": [
      "enter directioneast\n",
      "come again\n"
     ]
    }
   ],
   "source": [
    "available_exits =[\"east\",\"north\"]\n",
    "choosen_exits =\"\"\n",
    "while choosen_exits not in available_exits:\n",
    "    choosen_exits=input(\"enter direction\")\n",
    "    \n",
    "print('come again')\n",
    "    \n",
    "    "
   ]
  },
  {
   "cell_type": "code",
   "execution_count": 15,
   "metadata": {},
   "outputs": [
    {
     "name": "stdout",
     "output_type": "stream",
     "text": [
      "enter directionnorth\n",
      "come again\n"
     ]
    }
   ],
   "source": [
    "available_exits =[\"east\",\"north\"]\n",
    "choosen_exits =\"\"\n",
    "while choosen_exits not in available_exits:\n",
    "    choosen_exits=input(\"enter direction\")\n",
    "    if choosen_exits== quit:\n",
    "        print(bye)\n",
    "        break\n",
    "    \n",
    "else:\n",
    "    print('come again')"
   ]
  },
  {
   "cell_type": "code",
   "execution_count": 16,
   "metadata": {},
   "outputs": [
    {
     "data": {
      "text/plain": [
       "['cat', 'bat', 'rat', 'mat', '24']"
      ]
     },
     "execution_count": 16,
     "metadata": {},
     "output_type": "execute_result"
    }
   ],
   "source": [
    "#list\n",
    "['cat','bat','rat','mat','24']"
   ]
  },
  {
   "cell_type": "code",
   "execution_count": 17,
   "metadata": {},
   "outputs": [
    {
     "name": "stdout",
     "output_type": "stream",
     "text": [
      "['cat', 'bat', 'rat', 'mat']\n"
     ]
    }
   ],
   "source": [
    "list=['cat','bat','rat','mat']\n",
    "print(list)"
   ]
  },
  {
   "cell_type": "code",
   "execution_count": 18,
   "metadata": {},
   "outputs": [
    {
     "data": {
      "text/plain": [
       "'cat'"
      ]
     },
     "execution_count": 18,
     "metadata": {},
     "output_type": "execute_result"
    }
   ],
   "source": [
    "list[0]\n"
   ]
  },
  {
   "cell_type": "code",
   "execution_count": 19,
   "metadata": {},
   "outputs": [
    {
     "data": {
      "text/plain": [
       "'mat'"
      ]
     },
     "execution_count": 19,
     "metadata": {},
     "output_type": "execute_result"
    }
   ],
   "source": [
    "list[3]"
   ]
  },
  {
   "cell_type": "code",
   "execution_count": 20,
   "metadata": {},
   "outputs": [
    {
     "data": {
      "text/plain": [
       "'mat'"
      ]
     },
     "execution_count": 20,
     "metadata": {},
     "output_type": "execute_result"
    }
   ],
   "source": [
    "list[-1]"
   ]
  },
  {
   "cell_type": "code",
   "execution_count": 21,
   "metadata": {},
   "outputs": [
    {
     "name": "stdout",
     "output_type": "stream",
     "text": [
      "hello bat\n"
     ]
    }
   ],
   "source": [
    "print(\"hello\",list[1])"
   ]
  },
  {
   "cell_type": "code",
   "execution_count": 22,
   "metadata": {},
   "outputs": [
    {
     "data": {
      "text/plain": [
       "['cat', 'bat', 'rat', 'mat']"
      ]
     },
     "execution_count": 22,
     "metadata": {},
     "output_type": "execute_result"
    }
   ],
   "source": [
    "list[:]"
   ]
  },
  {
   "cell_type": "code",
   "execution_count": 23,
   "metadata": {},
   "outputs": [
    {
     "data": {
      "text/plain": [
       "['cat', 'bat']"
      ]
     },
     "execution_count": 23,
     "metadata": {},
     "output_type": "execute_result"
    }
   ],
   "source": [
    "list[:2]"
   ]
  },
  {
   "cell_type": "code",
   "execution_count": 24,
   "metadata": {},
   "outputs": [
    {
     "data": {
      "text/plain": [
       "['cat', 'bat']"
      ]
     },
     "execution_count": 24,
     "metadata": {},
     "output_type": "execute_result"
    }
   ],
   "source": [
    "list[0:2]"
   ]
  },
  {
   "cell_type": "code",
   "execution_count": 25,
   "metadata": {},
   "outputs": [
    {
     "data": {
      "text/plain": [
       "['rat', 'mat']"
      ]
     },
     "execution_count": 25,
     "metadata": {},
     "output_type": "execute_result"
    }
   ],
   "source": [
    "list[2:]"
   ]
  },
  {
   "cell_type": "code",
   "execution_count": 26,
   "metadata": {},
   "outputs": [
    {
     "data": {
      "text/plain": [
       "4"
      ]
     },
     "execution_count": 26,
     "metadata": {},
     "output_type": "execute_result"
    }
   ],
   "source": [
    "len(list)"
   ]
  },
  {
   "cell_type": "code",
   "execution_count": 27,
   "metadata": {},
   "outputs": [
    {
     "data": {
      "text/plain": [
       "['cat', 'bat', 'rat', 'mat', 'goat']"
      ]
     },
     "execution_count": 27,
     "metadata": {},
     "output_type": "execute_result"
    }
   ],
   "source": [
    "list.append('goat')\n",
    "list"
   ]
  },
  {
   "cell_type": "code",
   "execution_count": 28,
   "metadata": {},
   "outputs": [
    {
     "name": "stdout",
     "output_type": "stream",
     "text": [
      "1\n",
      "2\n",
      "3\n",
      "4\n",
      "5\n",
      "6\n",
      "7\n",
      "8\n",
      "8\n",
      "9\n"
     ]
    }
   ],
   "source": [
    "#iterater\n",
    "string=\"1234567889\"\n",
    "for lol in string:\n",
    "    print(lol)\n",
    "    "
   ]
  },
  {
   "cell_type": "code",
   "execution_count": 29,
   "metadata": {},
   "outputs": [
    {
     "name": "stdout",
     "output_type": "stream",
     "text": [
      "<str_iterator object at 0x00000261C2AACDC8>\n",
      "1\n",
      "2\n",
      "3\n",
      "4\n",
      "5\n"
     ]
    }
   ],
   "source": [
    "string= \"1234567889\"\n",
    "lol = iter(string)\n",
    "print(lol)\n",
    "print(next(lol))\n",
    "print(next(lol))\n",
    "print(next(lol))\n",
    "print(next(lol))\n",
    "print(next(lol))"
   ]
  },
  {
   "cell_type": "code",
   "execution_count": 30,
   "metadata": {},
   "outputs": [
    {
     "name": "stdout",
     "output_type": "stream",
     "text": [
      "1\n",
      "2\n",
      "3\n",
      "4\n",
      "5\n",
      "6\n",
      "7\n",
      "8\n",
      "8\n",
      "9\n"
     ]
    }
   ],
   "source": [
    "string= \"1234567889\"\n",
    "lol = iter(string)\n",
    "\n",
    "for col in range(0,len(string)):\n",
    "    nest= next(lol)\n",
    "    print(nest)\n"
   ]
  },
  {
   "cell_type": "code",
   "execution_count": 31,
   "metadata": {},
   "outputs": [
    {
     "data": {
      "text/plain": [
       "'22'"
      ]
     },
     "execution_count": 31,
     "metadata": {},
     "output_type": "execute_result"
    }
   ],
   "source": [
    "#list and dictionries\n",
    "list=['cat','rat','mar']\n",
    "dict={'name':'rocky','age':'22','gender':'m'}\n",
    "dict['age']"
   ]
  },
  {
   "cell_type": "code",
   "execution_count": 32,
   "metadata": {},
   "outputs": [
    {
     "name": "stdout",
     "output_type": "stream",
     "text": [
      "rocky\n",
      "22\n",
      "m\n"
     ]
    }
   ],
   "source": [
    "dot={'name':'rocky','age':'22','gender':'m'}\n",
    "for v in dot.values():\n",
    "    print(v)"
   ]
  },
  {
   "cell_type": "code",
   "execution_count": 33,
   "metadata": {},
   "outputs": [
    {
     "name": "stdout",
     "output_type": "stream",
     "text": [
      "name\n",
      "age\n",
      "gender\n"
     ]
    }
   ],
   "source": [
    "for k in dot.keys():\n",
    "    print(k)"
   ]
  },
  {
   "cell_type": "code",
   "execution_count": 34,
   "metadata": {},
   "outputs": [
    {
     "name": "stdout",
     "output_type": "stream",
     "text": [
      "('name', 'rocky')\n",
      "('age', '22')\n",
      "('gender', 'm')\n"
     ]
    }
   ],
   "source": [
    "for i in dot.items():\n",
    "    print(i)"
   ]
  },
  {
   "cell_type": "code",
   "execution_count": null,
   "metadata": {},
   "outputs": [],
   "source": [
    "birthday={'mm':'22','jj':'33'}\n",
    "\n",
    "while True:\n",
    "    print = (\"enter name:  \")\n",
    "    name = input()\n",
    "    if name =='':\n",
    "        break\n",
    "    if name in birthday:\n",
    "        print(birthday[name])\n",
    "    else:\n",
    "        print(\"wrong info\")\n",
    "        brday = input()\n",
    "        birthday[name] =brday\n",
    "        print('database updated')\n",
    "    "
   ]
  },
  {
   "cell_type": "code",
   "execution_count": 1,
   "metadata": {},
   "outputs": [],
   "source": [
    "import numpy as np"
   ]
  },
  {
   "cell_type": "code",
   "execution_count": null,
   "metadata": {},
   "outputs": [],
   "source": []
  },
  {
   "cell_type": "code",
   "execution_count": null,
   "metadata": {},
   "outputs": [],
   "source": []
  },
  {
   "cell_type": "code",
   "execution_count": null,
   "metadata": {},
   "outputs": [],
   "source": []
  },
  {
   "cell_type": "code",
   "execution_count": null,
   "metadata": {},
   "outputs": [],
   "source": []
  },
  {
   "cell_type": "code",
   "execution_count": null,
   "metadata": {},
   "outputs": [],
   "source": []
  },
  {
   "cell_type": "code",
   "execution_count": null,
   "metadata": {},
   "outputs": [],
   "source": []
  },
  {
   "cell_type": "code",
   "execution_count": null,
   "metadata": {},
   "outputs": [],
   "source": []
  },
  {
   "cell_type": "code",
   "execution_count": null,
   "metadata": {},
   "outputs": [],
   "source": []
  }
 ],
 "metadata": {
  "kernelspec": {
   "display_name": "Python 3",
   "language": "python",
   "name": "python3"
  },
  "language_info": {
   "codemirror_mode": {
    "name": "ipython",
    "version": 3
   },
   "file_extension": ".py",
   "mimetype": "text/x-python",
   "name": "python",
   "nbconvert_exporter": "python",
   "pygments_lexer": "ipython3",
   "version": "3.7.4"
  }
 },
 "nbformat": 4,
 "nbformat_minor": 4
}
